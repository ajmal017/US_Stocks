{
 "cells": [
  {
   "cell_type": "code",
   "execution_count": null,
   "metadata": {},
   "outputs": [],
   "source": [
    "# stock_symbol_list = [x[:-4] for x in os.listdir('NDX100_data/2020/20200622/20200622')]\n",
    "stock_symbol_list = ['AAPL', 'ADBE', 'ADI', 'ADP', 'ADSK', 'ALGN', 'ALXN', 'AMAT', 'AMD', 'AMGN', \n",
    "                     'AMZN', 'ANSS', 'ASML', 'ATVI', 'AVGO', 'BIDU', 'BIIB', 'BKNG', 'BMRN', 'CDNS', \n",
    "                     'CDW', 'CERN', 'CHKP', 'CHTR', 'CMCSA', 'COST', 'CPRT', 'CSCO', 'CSGP', 'CSX', \n",
    "                     'CTAS', 'CTSH', 'CTXS', 'DLTR', 'DXCM', 'EA', 'EBAY', 'EXC', 'EXPE', 'FAST', \n",
    "                     'FB', 'FISV', 'FOX', 'FOXA', 'GILD', 'GOOG', 'GOOGL', 'IDXX', 'ILMN', 'INCY', \n",
    "                     'INTC', 'INTU', 'ISRG', 'JD', 'KHC', 'KLAC', 'LBTYA', 'LBTYK', 'LRCX', 'LULU', \n",
    "                     'MAR', 'MCHP', 'MDLZ', 'MELI', 'MNST', 'MSFT', 'MU', 'MXIM', 'NFLX', 'NTAP', \n",
    "                     'NTES', 'NVDA', 'NXPI', 'ORLY', 'PAYX', 'PCAR', 'PEP', 'PYPL', 'QCOM', 'REGN', \n",
    "                     'ROST', 'SBUX', 'SGEN', 'SIRI', 'SNPS', 'SPLK', 'SWKS', 'TCOM', 'TMUS', 'TSLA', \n",
    "                     'TTWO', 'TXN', 'UAL', 'ULTA', 'VRSK', 'VRSN', 'VRTX', 'WBA', 'WDAY', 'WDC', \n",
    "                     'XEL', 'XLNX', 'ZM']\n",
    "\n",
    "sql_create_tables = []\n",
    "for stock_symbol in stock_symbol_list:\n",
    "    sql_create_tables.append(\"DELETE FROM ib_today_\" + stock_symbol + \";\")\n",
    "with open('SQL/sql_delete_today_tables.sql', 'w') as f:\n",
    "    for c in sql_create_tables:\n",
    "        f.write(\"%s\\n\" % c)"
   ]
  },
  {
   "cell_type": "code",
   "execution_count": 4,
   "metadata": {},
   "outputs": [],
   "source": [
    "import numpy as np\n",
    "# note that all ndarrays must be the same length!\n",
    "input_arrays = {\n",
    "    'open': np.random.random(100),\n",
    "    'high': np.random.random(100),\n",
    "    'low': np.random.random(100),\n",
    "    'close': np.random.random(100),\n",
    "    'volume': np.random.random(100)\n",
    "}"
   ]
  },
  {
   "cell_type": "code",
   "execution_count": 5,
   "metadata": {},
   "outputs": [],
   "source": [
    "from talib import abstract\n",
    "sma = abstract.SMA\n",
    "sma = abstract.Function('sma')"
   ]
  },
  {
   "cell_type": "code",
   "execution_count": 7,
   "metadata": {},
   "outputs": [],
   "source": [
    "from talib.abstract import *\n",
    "output = SMA(input_arrays, timeperiod=25) # calculate on close prices by default\n",
    "output = SMA(input_arrays, timeperiod=25, price='open') # calculate on opens\n",
    "# upper, middle, lower = BBANDS(input_arrays, 20, 2, 2)\n",
    "# slowk, slowd = STOCH(input_arrays, 5, 3, 0, 3, 0) # uses high, low, close by default\n",
    "# slowk, slowd = STOCH(input_arrays, 5, 3, 0, 3, 0, prices=['high', 'low', 'open'])"
   ]
  },
  {
   "cell_type": "code",
   "execution_count": 12,
   "metadata": {
    "collapsed": true
   },
   "outputs": [
    {
     "data": {
      "text/plain": [
       "array([       nan,        nan,        nan,        nan,        nan,\n",
       "              nan,        nan,        nan,        nan,        nan,\n",
       "              nan,        nan,        nan,        nan,        nan,\n",
       "              nan,        nan,        nan,        nan,        nan,\n",
       "              nan,        nan,        nan,        nan, 0.55254495,\n",
       "       0.53941701, 0.53929181, 0.53193193, 0.50002196, 0.51003586,\n",
       "       0.52305878, 0.5167784 , 0.52255828, 0.50524921, 0.48959504,\n",
       "       0.46528593, 0.44720209, 0.44897447, 0.4521605 , 0.44657164,\n",
       "       0.46466863, 0.43959924, 0.41446286, 0.42206237, 0.41337652,\n",
       "       0.41842159, 0.44707073, 0.44266191, 0.42616748, 0.43218978,\n",
       "       0.44173331, 0.44566623, 0.46420513, 0.49856224, 0.51140967,\n",
       "       0.52376012, 0.51687894, 0.51496994, 0.5314359 , 0.55668194,\n",
       "       0.57082628, 0.55869304, 0.56064504, 0.54414183, 0.53410972,\n",
       "       0.52803804, 0.52455613, 0.52844683, 0.51760498, 0.52295198,\n",
       "       0.50791788, 0.49311697, 0.49272565, 0.50832814, 0.48989313,\n",
       "       0.50729446, 0.50909071, 0.49756209, 0.49583315, 0.49401796,\n",
       "       0.4960935 , 0.48734724, 0.46813133, 0.45989518, 0.4478289 ,\n",
       "       0.42800707, 0.45302358, 0.48230291, 0.47914045, 0.4889635 ,\n",
       "       0.50106234, 0.50677656, 0.49925454, 0.50979569, 0.49393565,\n",
       "       0.49211835, 0.48857611, 0.49268949, 0.47586674, 0.47122441])"
      ]
     },
     "execution_count": 12,
     "metadata": {},
     "output_type": "execute_result"
    }
   ],
   "source": [
    "sma(input_arrays, timeperiod=25)"
   ]
  },
  {
   "cell_type": "code",
   "execution_count": 14,
   "metadata": {},
   "outputs": [
    {
     "ename": "TypeError",
     "evalue": "Invalid parameter value for timeperiod (expected int, got list)",
     "output_type": "error",
     "traceback": [
      "\u001b[1;31m---------------------------------------------------------------------------\u001b[0m",
      "\u001b[1;31mTypeError\u001b[0m                                 Traceback (most recent call last)",
      "\u001b[1;32m<ipython-input-14-af3213488341>\u001b[0m in \u001b[0;36m<module>\u001b[1;34m\u001b[0m\n\u001b[1;32m----> 1\u001b[1;33m \u001b[0mupper\u001b[0m\u001b[1;33m,\u001b[0m \u001b[0mmiddle\u001b[0m\u001b[1;33m,\u001b[0m \u001b[0mlower\u001b[0m \u001b[1;33m=\u001b[0m \u001b[0mBBANDS\u001b[0m\u001b[1;33m(\u001b[0m\u001b[0minput_arrays\u001b[0m\u001b[1;33m,\u001b[0m \u001b[1;33m[\u001b[0m\u001b[1;36m20\u001b[0m\u001b[1;33m,\u001b[0m \u001b[1;36m2.0\u001b[0m\u001b[1;33m,\u001b[0m \u001b[1;36m2.0\u001b[0m\u001b[1;33m]\u001b[0m\u001b[1;33m)\u001b[0m\u001b[1;33m\u001b[0m\u001b[1;33m\u001b[0m\u001b[0m\n\u001b[0m",
      "\u001b[1;32m_abstract.pxi\u001b[0m in \u001b[0;36mtalib._ta_lib.Function.__call__\u001b[1;34m()\u001b[0m\n",
      "\u001b[1;32m_abstract.pxi\u001b[0m in \u001b[0;36mtalib._ta_lib.Function.set_function_args\u001b[1;34m()\u001b[0m\n",
      "\u001b[1;32m_abstract.pxi\u001b[0m in \u001b[0;36mtalib._ta_lib.Function.__check_opt_input_value\u001b[1;34m()\u001b[0m\n",
      "\u001b[1;31mTypeError\u001b[0m: Invalid parameter value for timeperiod (expected int, got list)"
     ]
    }
   ],
   "source": [
    "upper, middle, lower = BBANDS(input_arrays, 20, 2.0, 2.0)"
   ]
  },
  {
   "cell_type": "code",
   "execution_count": 10,
   "metadata": {
    "scrolled": true
   },
   "outputs": [
    {
     "data": {
      "text/plain": [
       "{'name': 'BBANDS',\n",
       " 'group': 'Overlap Studies',\n",
       " 'display_name': 'Bollinger Bands',\n",
       " 'function_flags': ['Output scale same as input'],\n",
       " 'input_names': OrderedDict([('price', 'close')]),\n",
       " 'parameters': OrderedDict([('timeperiod', 5),\n",
       "              ('nbdevup', 2),\n",
       "              ('nbdevdn', 2),\n",
       "              ('matype', 0)]),\n",
       " 'output_flags': OrderedDict([('upperband',\n",
       "               ['Values represent an upper limit']),\n",
       "              ('middleband', ['Line']),\n",
       "              ('lowerband', ['Values represent a lower limit'])]),\n",
       " 'output_names': ['upperband', 'middleband', 'lowerband']}"
      ]
     },
     "execution_count": 10,
     "metadata": {},
     "output_type": "execute_result"
    }
   ],
   "source": [
    "Function('BBANDS').info"
   ]
  },
  {
   "cell_type": "code",
   "execution_count": null,
   "metadata": {},
   "outputs": [],
   "source": []
  },
  {
   "cell_type": "code",
   "execution_count": 4,
   "metadata": {},
   "outputs": [
    {
     "name": "stderr",
     "output_type": "stream",
     "text": [
      "C:\\Users\\User\\anaconda3\\envs\\stock\\lib\\site-packages\\pymysql\\cursors.py:170: Warning: (1366, \"Incorrect string value: '\\\\xA4\\\\xA4\\\\xB0\\\\xEA\\\\xBC\\\\xD0...' for column 'VARIABLE_VALUE' at row 1\")\n",
      "  result = self._query(query)\n"
     ]
    }
   ],
   "source": [
    "from StockMethodRealTime import StockMethodRealTime\n",
    "\n",
    "a = StockMethodRealTime('aapl', '').get_real_time_data()"
   ]
  },
  {
   "cell_type": "code",
   "execution_count": 10,
   "metadata": {},
   "outputs": [],
   "source": [
    "a['Date'] = a['Date'].astype(str)"
   ]
  },
  {
   "cell_type": "code",
   "execution_count": 11,
   "metadata": {},
   "outputs": [],
   "source": [
    "a['TimeBarStart'] = a['TimeBarStart'].astype(str).str[7:15]"
   ]
  },
  {
   "cell_type": "code",
   "execution_count": 12,
   "metadata": {},
   "outputs": [],
   "source": [
    "import pandas as pd"
   ]
  },
  {
   "cell_type": "code",
   "execution_count": 14,
   "metadata": {},
   "outputs": [],
   "source": [
    "b = pd.to_datetime(a['Date'] + ' ' + a['TimeBarStart'])"
   ]
  },
  {
   "cell_type": "code",
   "execution_count": 16,
   "metadata": {},
   "outputs": [
    {
     "data": {
      "text/plain": [
       "Timestamp('2020-07-15 03:18:00')"
      ]
     },
     "execution_count": 16,
     "metadata": {},
     "output_type": "execute_result"
    }
   ],
   "source": [
    "b.iloc[0]"
   ]
  },
  {
   "cell_type": "code",
   "execution_count": 18,
   "metadata": {},
   "outputs": [
    {
     "data": {
      "text/plain": [
       "'2020-07-15 03:18:00'"
      ]
     },
     "execution_count": 18,
     "metadata": {},
     "output_type": "execute_result"
    }
   ],
   "source": [
    "(a['Date'] + ' ' + a['TimeBarStart'])[0]"
   ]
  },
  {
   "cell_type": "code",
   "execution_count": 22,
   "metadata": {},
   "outputs": [
    {
     "data": {
      "text/plain": [
       "datetime.datetime(2020, 7, 15, 3, 18)"
      ]
     },
     "execution_count": 22,
     "metadata": {},
     "output_type": "execute_result"
    }
   ],
   "source": [
    "from datetime import datetime\n",
    "\n",
    "datetime.strptime((a['Date'] + ' ' + a['TimeBarStart'])[0], '%Y-%m-%d %H:%M:%S')"
   ]
  },
  {
   "cell_type": "code",
   "execution_count": 27,
   "metadata": {},
   "outputs": [],
   "source": [
    "est = pytz.timezone('US/Eastern')\n",
    "c = datetime.strptime((a['Date'] + ' ' + a['TimeBarStart'])[0], '%Y-%m-%d %H:%M:%S').astimezone(tz=est)"
   ]
  },
  {
   "cell_type": "code",
   "execution_count": 30,
   "metadata": {},
   "outputs": [
    {
     "data": {
      "text/plain": [
       "'2020-07-14 15:18:00'"
      ]
     },
     "execution_count": 30,
     "metadata": {},
     "output_type": "execute_result"
    }
   ],
   "source": [
    "c.strftime('%Y-%m-%d %H:%M:%S')"
   ]
  },
  {
   "cell_type": "code",
   "execution_count": 23,
   "metadata": {},
   "outputs": [],
   "source": [
    "import pytz"
   ]
  },
  {
   "cell_type": "code",
   "execution_count": null,
   "metadata": {},
   "outputs": [],
   "source": [
    "est = pytz.timezone('US/Eastern')\n",
    "fmt = '%Y-%m-%d %H:%M:%S %Z%z'\n",
    "\n",
    "winter = datetime(2016, 1, 24, 18, 0, 0, tzinfo=utc)\n",
    "summer = datetime(2016, 7, 24, 18, 0, 0, tzinfo=utc)\n",
    "\n",
    "print winter.strftime(fmt)\n",
    "print summer.strftime(fmt)\n",
    "\n",
    "print winter.astimezone(est).strftime(fmt)\n",
    "print summer.astimezone(est).strftime(fmt)"
   ]
  },
  {
   "cell_type": "code",
   "execution_count": null,
   "metadata": {},
   "outputs": [],
   "source": []
  },
  {
   "cell_type": "code",
   "execution_count": null,
   "metadata": {},
   "outputs": [],
   "source": []
  },
  {
   "cell_type": "code",
   "execution_count": null,
   "metadata": {},
   "outputs": [],
   "source": []
  },
  {
   "cell_type": "code",
   "execution_count": 6,
   "metadata": {},
   "outputs": [
    {
     "name": "stdout",
     "output_type": "stream",
     "text": [
      "Name: tornado\n",
      "Version: 6.0.4\n",
      "Summary: Tornado is a Python web framework and asynchronous networking library, originally developed at FriendFeed.\n",
      "Home-page: http://www.tornadoweb.org/\n",
      "Author: Facebook\n",
      "Author-email: python-tornado@googlegroups.com\n",
      "License: http://www.apache.org/licenses/LICENSE-2.0\n",
      "Location: c:\\users\\user\\anaconda3\\envs\\stock\\lib\\site-packages\n",
      "Requires: \n",
      "Required-by: notebook, jupyter-client, ipykernel\n"
     ]
    }
   ],
   "source": [
    "!pip show tornado"
   ]
  },
  {
   "cell_type": "code",
   "execution_count": 1,
   "metadata": {},
   "outputs": [],
   "source": [
    "import asyncio"
   ]
  },
  {
   "cell_type": "code",
   "execution_count": 2,
   "metadata": {},
   "outputs": [
    {
     "data": {
      "text/plain": [
       "<_WindowsSelectorEventLoop running=True closed=False debug=False>"
      ]
     },
     "execution_count": 2,
     "metadata": {},
     "output_type": "execute_result"
    }
   ],
   "source": [
    "asyncio.get_event_loop()"
   ]
  },
  {
   "cell_type": "code",
   "execution_count": 3,
   "metadata": {},
   "outputs": [],
   "source": [
    "asyncio.get_event_loop().stop()"
   ]
  },
  {
   "cell_type": "code",
   "execution_count": null,
   "metadata": {},
   "outputs": [],
   "source": []
  },
  {
   "cell_type": "code",
   "execution_count": null,
   "metadata": {},
   "outputs": [],
   "source": []
  },
  {
   "cell_type": "code",
   "execution_count": null,
   "metadata": {},
   "outputs": [],
   "source": []
  },
  {
   "cell_type": "code",
   "execution_count": 3,
   "metadata": {},
   "outputs": [],
   "source": [
    "from StockMethodRealTime import StockMethodRealTime"
   ]
  },
  {
   "cell_type": "code",
   "execution_count": 4,
   "metadata": {},
   "outputs": [],
   "source": [
    "aapl = StockMethodRealTime(\"aapl\", \"1h\")"
   ]
  },
  {
   "cell_type": "code",
   "execution_count": 5,
   "metadata": {},
   "outputs": [
    {
     "name": "stderr",
     "output_type": "stream",
     "text": [
      "C:\\Users\\User\\anaconda3\\envs\\stock\\lib\\site-packages\\pymysql\\cursors.py:170: Warning: (1366, \"Incorrect string value: '\\\\xA4\\\\xA4\\\\xB0\\\\xEA\\\\xBC\\\\xD0...' for column 'VARIABLE_VALUE' at row 1\")\n",
      "  result = self._query(query)\n"
     ]
    },
    {
     "data": {
      "text/html": [
       "<div>\n",
       "<style scoped>\n",
       "    .dataframe tbody tr th:only-of-type {\n",
       "        vertical-align: middle;\n",
       "    }\n",
       "\n",
       "    .dataframe tbody tr th {\n",
       "        vertical-align: top;\n",
       "    }\n",
       "\n",
       "    .dataframe thead th {\n",
       "        text-align: right;\n",
       "    }\n",
       "</style>\n",
       "<table border=\"1\" class=\"dataframe\">\n",
       "  <thead>\n",
       "    <tr style=\"text-align: right;\">\n",
       "      <th></th>\n",
       "      <th>Date</th>\n",
       "      <th>Ticker</th>\n",
       "      <th>TimeBarStart</th>\n",
       "      <th>Open</th>\n",
       "      <th>High</th>\n",
       "      <th>Low</th>\n",
       "      <th>Close</th>\n",
       "      <th>Volume</th>\n",
       "    </tr>\n",
       "  </thead>\n",
       "  <tbody>\n",
       "    <tr>\n",
       "      <th>0</th>\n",
       "      <td>2020-07-17</td>\n",
       "      <td>AAPL</td>\n",
       "      <td>03:28:00</td>\n",
       "      <td>385.945</td>\n",
       "      <td>386.410</td>\n",
       "      <td>385.905</td>\n",
       "      <td>386.345</td>\n",
       "      <td>-1</td>\n",
       "    </tr>\n",
       "    <tr>\n",
       "      <th>1</th>\n",
       "      <td>2020-07-17</td>\n",
       "      <td>AAPL</td>\n",
       "      <td>03:29:00</td>\n",
       "      <td>386.345</td>\n",
       "      <td>386.610</td>\n",
       "      <td>386.175</td>\n",
       "      <td>386.500</td>\n",
       "      <td>-1</td>\n",
       "    </tr>\n",
       "    <tr>\n",
       "      <th>2</th>\n",
       "      <td>2020-07-17</td>\n",
       "      <td>AAPL</td>\n",
       "      <td>03:30:00</td>\n",
       "      <td>386.500</td>\n",
       "      <td>386.510</td>\n",
       "      <td>386.215</td>\n",
       "      <td>386.415</td>\n",
       "      <td>-1</td>\n",
       "    </tr>\n",
       "    <tr>\n",
       "      <th>3</th>\n",
       "      <td>2020-07-17</td>\n",
       "      <td>AAPL</td>\n",
       "      <td>03:31:00</td>\n",
       "      <td>386.415</td>\n",
       "      <td>386.475</td>\n",
       "      <td>386.305</td>\n",
       "      <td>386.445</td>\n",
       "      <td>-1</td>\n",
       "    </tr>\n",
       "    <tr>\n",
       "      <th>4</th>\n",
       "      <td>2020-07-17</td>\n",
       "      <td>AAPL</td>\n",
       "      <td>03:32:00</td>\n",
       "      <td>386.445</td>\n",
       "      <td>386.815</td>\n",
       "      <td>386.405</td>\n",
       "      <td>386.615</td>\n",
       "      <td>-1</td>\n",
       "    </tr>\n",
       "    <tr>\n",
       "      <th>...</th>\n",
       "      <td>...</td>\n",
       "      <td>...</td>\n",
       "      <td>...</td>\n",
       "      <td>...</td>\n",
       "      <td>...</td>\n",
       "      <td>...</td>\n",
       "      <td>...</td>\n",
       "      <td>...</td>\n",
       "    </tr>\n",
       "    <tr>\n",
       "      <th>356</th>\n",
       "      <td>2020-07-18</td>\n",
       "      <td>AAPL</td>\n",
       "      <td>02:54:00</td>\n",
       "      <td>386.200</td>\n",
       "      <td>386.320</td>\n",
       "      <td>386.135</td>\n",
       "      <td>386.150</td>\n",
       "      <td>-1</td>\n",
       "    </tr>\n",
       "    <tr>\n",
       "      <th>357</th>\n",
       "      <td>2020-07-18</td>\n",
       "      <td>AAPL</td>\n",
       "      <td>02:55:00</td>\n",
       "      <td>386.150</td>\n",
       "      <td>386.255</td>\n",
       "      <td>386.040</td>\n",
       "      <td>386.050</td>\n",
       "      <td>-1</td>\n",
       "    </tr>\n",
       "    <tr>\n",
       "      <th>358</th>\n",
       "      <td>2020-07-18</td>\n",
       "      <td>AAPL</td>\n",
       "      <td>02:56:00</td>\n",
       "      <td>386.050</td>\n",
       "      <td>386.080</td>\n",
       "      <td>385.965</td>\n",
       "      <td>386.045</td>\n",
       "      <td>-1</td>\n",
       "    </tr>\n",
       "    <tr>\n",
       "      <th>359</th>\n",
       "      <td>2020-07-18</td>\n",
       "      <td>AAPL</td>\n",
       "      <td>02:57:00</td>\n",
       "      <td>386.045</td>\n",
       "      <td>386.050</td>\n",
       "      <td>385.830</td>\n",
       "      <td>385.840</td>\n",
       "      <td>-1</td>\n",
       "    </tr>\n",
       "    <tr>\n",
       "      <th>360</th>\n",
       "      <td>2020-07-18</td>\n",
       "      <td>AAPL</td>\n",
       "      <td>02:58:00</td>\n",
       "      <td>385.840</td>\n",
       "      <td>385.895</td>\n",
       "      <td>385.770</td>\n",
       "      <td>385.895</td>\n",
       "      <td>-1</td>\n",
       "    </tr>\n",
       "  </tbody>\n",
       "</table>\n",
       "<p>361 rows × 8 columns</p>\n",
       "</div>"
      ],
      "text/plain": [
       "           Date Ticker TimeBarStart     Open     High      Low    Close  \\\n",
       "0    2020-07-17   AAPL     03:28:00  385.945  386.410  385.905  386.345   \n",
       "1    2020-07-17   AAPL     03:29:00  386.345  386.610  386.175  386.500   \n",
       "2    2020-07-17   AAPL     03:30:00  386.500  386.510  386.215  386.415   \n",
       "3    2020-07-17   AAPL     03:31:00  386.415  386.475  386.305  386.445   \n",
       "4    2020-07-17   AAPL     03:32:00  386.445  386.815  386.405  386.615   \n",
       "..          ...    ...          ...      ...      ...      ...      ...   \n",
       "356  2020-07-18   AAPL     02:54:00  386.200  386.320  386.135  386.150   \n",
       "357  2020-07-18   AAPL     02:55:00  386.150  386.255  386.040  386.050   \n",
       "358  2020-07-18   AAPL     02:56:00  386.050  386.080  385.965  386.045   \n",
       "359  2020-07-18   AAPL     02:57:00  386.045  386.050  385.830  385.840   \n",
       "360  2020-07-18   AAPL     02:58:00  385.840  385.895  385.770  385.895   \n",
       "\n",
       "     Volume  \n",
       "0        -1  \n",
       "1        -1  \n",
       "2        -1  \n",
       "3        -1  \n",
       "4        -1  \n",
       "..      ...  \n",
       "356      -1  \n",
       "357      -1  \n",
       "358      -1  \n",
       "359      -1  \n",
       "360      -1  \n",
       "\n",
       "[361 rows x 8 columns]"
      ]
     },
     "execution_count": 5,
     "metadata": {},
     "output_type": "execute_result"
    }
   ],
   "source": [
    "aapl.get_real_time_data()"
   ]
  },
  {
   "cell_type": "code",
   "execution_count": 6,
   "metadata": {},
   "outputs": [],
   "source": [
    "from StockMethod import StockMethod"
   ]
  },
  {
   "cell_type": "code",
   "execution_count": 9,
   "metadata": {},
   "outputs": [
    {
     "name": "stderr",
     "output_type": "stream",
     "text": [
      "C:\\Users\\User\\anaconda3\\envs\\stock\\lib\\site-packages\\pymysql\\cursors.py:170: Warning: (1366, \"Incorrect string value: '\\\\xA4\\\\xA4\\\\xB0\\\\xEA\\\\xBC\\\\xD0...' for column 'VARIABLE_VALUE' at row 1\")\n",
      "  result = self._query(query)\n"
     ]
    },
    {
     "data": {
      "text/html": [
       "<div>\n",
       "<style scoped>\n",
       "    .dataframe tbody tr th:only-of-type {\n",
       "        vertical-align: middle;\n",
       "    }\n",
       "\n",
       "    .dataframe tbody tr th {\n",
       "        vertical-align: top;\n",
       "    }\n",
       "\n",
       "    .dataframe thead th {\n",
       "        text-align: right;\n",
       "    }\n",
       "</style>\n",
       "<table border=\"1\" class=\"dataframe\">\n",
       "  <thead>\n",
       "    <tr style=\"text-align: right;\">\n",
       "      <th></th>\n",
       "      <th>DateTime</th>\n",
       "      <th>Ticker</th>\n",
       "      <th>Open</th>\n",
       "      <th>High</th>\n",
       "      <th>Low</th>\n",
       "      <th>Close</th>\n",
       "      <th>Volume</th>\n",
       "      <th>TotalTrades</th>\n",
       "    </tr>\n",
       "  </thead>\n",
       "  <tbody>\n",
       "    <tr>\n",
       "      <th>0</th>\n",
       "      <td>2020-07-06 09:00:00</td>\n",
       "      <td>AAPL</td>\n",
       "      <td>370.0</td>\n",
       "      <td>373.5</td>\n",
       "      <td>369.86</td>\n",
       "      <td>373.22</td>\n",
       "      <td>5430524</td>\n",
       "      <td>58939</td>\n",
       "    </tr>\n",
       "    <tr>\n",
       "      <th>1</th>\n",
       "      <td>2020-07-06 10:00:00</td>\n",
       "      <td>AAPL</td>\n",
       "      <td>373.23</td>\n",
       "      <td>375.0</td>\n",
       "      <td>364.11</td>\n",
       "      <td>374.962</td>\n",
       "      <td>5231198</td>\n",
       "      <td>65396</td>\n",
       "    </tr>\n",
       "    <tr>\n",
       "      <th>2</th>\n",
       "      <td>2020-07-06 11:00:00</td>\n",
       "      <td>AAPL</td>\n",
       "      <td>374.98</td>\n",
       "      <td>375.78</td>\n",
       "      <td>364.11</td>\n",
       "      <td>374.395</td>\n",
       "      <td>4051217</td>\n",
       "      <td>51723</td>\n",
       "    </tr>\n",
       "    <tr>\n",
       "      <th>3</th>\n",
       "      <td>2020-07-06 12:00:00</td>\n",
       "      <td>AAPL</td>\n",
       "      <td>374.38</td>\n",
       "      <td>374.8</td>\n",
       "      <td>364.11</td>\n",
       "      <td>374.125</td>\n",
       "      <td>2600055</td>\n",
       "      <td>35262</td>\n",
       "    </tr>\n",
       "    <tr>\n",
       "      <th>4</th>\n",
       "      <td>2020-07-06 13:00:00</td>\n",
       "      <td>AAPL</td>\n",
       "      <td>374.15</td>\n",
       "      <td>374.238</td>\n",
       "      <td>364.11</td>\n",
       "      <td>373.462</td>\n",
       "      <td>1985221</td>\n",
       "      <td>26627</td>\n",
       "    </tr>\n",
       "    <tr>\n",
       "      <th>5</th>\n",
       "      <td>2020-07-06 14:00:00</td>\n",
       "      <td>AAPL</td>\n",
       "      <td>373.47</td>\n",
       "      <td>373.52</td>\n",
       "      <td>364.11</td>\n",
       "      <td>373.05</td>\n",
       "      <td>2544897</td>\n",
       "      <td>34649</td>\n",
       "    </tr>\n",
       "    <tr>\n",
       "      <th>6</th>\n",
       "      <td>2020-07-06 15:00:00</td>\n",
       "      <td>AAPL</td>\n",
       "      <td>373.05</td>\n",
       "      <td>374.41</td>\n",
       "      <td>372.01</td>\n",
       "      <td>373.81</td>\n",
       "      <td>4081535</td>\n",
       "      <td>51680</td>\n",
       "    </tr>\n",
       "    <tr>\n",
       "      <th>7</th>\n",
       "      <td>2020-07-07 09:00:00</td>\n",
       "      <td>AAPL</td>\n",
       "      <td>375.47</td>\n",
       "      <td>376.93</td>\n",
       "      <td>374.0</td>\n",
       "      <td>375.82</td>\n",
       "      <td>4006229</td>\n",
       "      <td>45665</td>\n",
       "    </tr>\n",
       "    <tr>\n",
       "      <th>8</th>\n",
       "      <td>2020-07-07 10:00:00</td>\n",
       "      <td>AAPL</td>\n",
       "      <td>375.82</td>\n",
       "      <td>378.65</td>\n",
       "      <td>373.85</td>\n",
       "      <td>378.06</td>\n",
       "      <td>5045918</td>\n",
       "      <td>61740</td>\n",
       "    </tr>\n",
       "    <tr>\n",
       "      <th>9</th>\n",
       "      <td>2020-07-07 11:00:00</td>\n",
       "      <td>AAPL</td>\n",
       "      <td>378.075</td>\n",
       "      <td>378.5</td>\n",
       "      <td>377.0</td>\n",
       "      <td>377.63</td>\n",
       "      <td>2734767</td>\n",
       "      <td>38815</td>\n",
       "    </tr>\n",
       "    <tr>\n",
       "      <th>10</th>\n",
       "      <td>2020-07-07 12:00:00</td>\n",
       "      <td>AAPL</td>\n",
       "      <td>377.65</td>\n",
       "      <td>377.87</td>\n",
       "      <td>375.43</td>\n",
       "      <td>376.62</td>\n",
       "      <td>2941852</td>\n",
       "      <td>34701</td>\n",
       "    </tr>\n",
       "    <tr>\n",
       "      <th>11</th>\n",
       "      <td>2020-07-07 13:00:00</td>\n",
       "      <td>AAPL</td>\n",
       "      <td>376.6</td>\n",
       "      <td>376.86</td>\n",
       "      <td>373.85</td>\n",
       "      <td>375.85</td>\n",
       "      <td>2073327</td>\n",
       "      <td>26203</td>\n",
       "    </tr>\n",
       "    <tr>\n",
       "      <th>12</th>\n",
       "      <td>2020-07-07 14:00:00</td>\n",
       "      <td>AAPL</td>\n",
       "      <td>375.85</td>\n",
       "      <td>376.01</td>\n",
       "      <td>373.85</td>\n",
       "      <td>375.47</td>\n",
       "      <td>2684828</td>\n",
       "      <td>32265</td>\n",
       "    </tr>\n",
       "    <tr>\n",
       "      <th>13</th>\n",
       "      <td>2020-07-07 15:00:00</td>\n",
       "      <td>AAPL</td>\n",
       "      <td>375.47</td>\n",
       "      <td>375.76</td>\n",
       "      <td>372.23</td>\n",
       "      <td>372.64</td>\n",
       "      <td>4914154</td>\n",
       "      <td>62039</td>\n",
       "    </tr>\n",
       "  </tbody>\n",
       "</table>\n",
       "</div>"
      ],
      "text/plain": [
       "              DateTime Ticker     Open     High     Low    Close   Volume  \\\n",
       "0  2020-07-06 09:00:00   AAPL    370.0    373.5  369.86   373.22  5430524   \n",
       "1  2020-07-06 10:00:00   AAPL   373.23    375.0  364.11  374.962  5231198   \n",
       "2  2020-07-06 11:00:00   AAPL   374.98   375.78  364.11  374.395  4051217   \n",
       "3  2020-07-06 12:00:00   AAPL   374.38    374.8  364.11  374.125  2600055   \n",
       "4  2020-07-06 13:00:00   AAPL   374.15  374.238  364.11  373.462  1985221   \n",
       "5  2020-07-06 14:00:00   AAPL   373.47   373.52  364.11   373.05  2544897   \n",
       "6  2020-07-06 15:00:00   AAPL   373.05   374.41  372.01   373.81  4081535   \n",
       "7  2020-07-07 09:00:00   AAPL   375.47   376.93   374.0   375.82  4006229   \n",
       "8  2020-07-07 10:00:00   AAPL   375.82   378.65  373.85   378.06  5045918   \n",
       "9  2020-07-07 11:00:00   AAPL  378.075    378.5   377.0   377.63  2734767   \n",
       "10 2020-07-07 12:00:00   AAPL   377.65   377.87  375.43   376.62  2941852   \n",
       "11 2020-07-07 13:00:00   AAPL    376.6   376.86  373.85   375.85  2073327   \n",
       "12 2020-07-07 14:00:00   AAPL   375.85   376.01  373.85   375.47  2684828   \n",
       "13 2020-07-07 15:00:00   AAPL   375.47   375.76  372.23   372.64  4914154   \n",
       "\n",
       "   TotalTrades  \n",
       "0        58939  \n",
       "1        65396  \n",
       "2        51723  \n",
       "3        35262  \n",
       "4        26627  \n",
       "5        34649  \n",
       "6        51680  \n",
       "7        45665  \n",
       "8        61740  \n",
       "9        38815  \n",
       "10       34701  \n",
       "11       26203  \n",
       "12       32265  \n",
       "13       62039  "
      ]
     },
     "execution_count": 9,
     "metadata": {},
     "output_type": "execute_result"
    }
   ],
   "source": [
    "x = StockMethod(symbol='aapl', freq='1h')\n",
    "x.query_by_symbol_and_freq(start='2020-07-5', end='2020-07-10')"
   ]
  },
  {
   "cell_type": "code",
   "execution_count": 3,
   "metadata": {},
   "outputs": [
    {
     "data": {
      "text/plain": [
       "<bound method StockMethodRealTime.resample_date of <StockMethodRealTime.StockMethodRealTime object at 0x000001FA0D615D30>>"
      ]
     },
     "execution_count": 3,
     "metadata": {},
     "output_type": "execute_result"
    }
   ],
   "source": [
    "from StockMethodRealTime import StockMethodRealTime\n",
    "aapl = StockMethodRealTime(\"aapl\", \"1h\")\n",
    "aapl.resample_date()"
   ]
  },
  {
   "cell_type": "code",
   "execution_count": null,
   "metadata": {},
   "outputs": [],
   "source": []
  },
  {
   "cell_type": "code",
   "execution_count": null,
   "metadata": {},
   "outputs": [],
   "source": []
  },
  {
   "cell_type": "code",
   "execution_count": 28,
   "metadata": {},
   "outputs": [],
   "source": [
    "import pandas as pd\n",
    "import numpy as np\n",
    "\n",
    "x = pd.DataFrame({'a': np.arange(6), 'b': np.arange(6)+2, 'c': np.arange(6)+10})\n",
    "x = x.set_index(np.arange(6)+20)"
   ]
  },
  {
   "cell_type": "code",
   "execution_count": 31,
   "metadata": {},
   "outputs": [
    {
     "data": {
      "text/html": [
       "<div>\n",
       "<style scoped>\n",
       "    .dataframe tbody tr th:only-of-type {\n",
       "        vertical-align: middle;\n",
       "    }\n",
       "\n",
       "    .dataframe tbody tr th {\n",
       "        vertical-align: top;\n",
       "    }\n",
       "\n",
       "    .dataframe thead th {\n",
       "        text-align: right;\n",
       "    }\n",
       "</style>\n",
       "<table border=\"1\" class=\"dataframe\">\n",
       "  <thead>\n",
       "    <tr style=\"text-align: right;\">\n",
       "      <th></th>\n",
       "      <th>a</th>\n",
       "      <th>b</th>\n",
       "      <th>c</th>\n",
       "    </tr>\n",
       "  </thead>\n",
       "  <tbody>\n",
       "    <tr>\n",
       "      <th>20</th>\n",
       "      <td>0</td>\n",
       "      <td>2</td>\n",
       "      <td>10</td>\n",
       "    </tr>\n",
       "    <tr>\n",
       "      <th>21</th>\n",
       "      <td>1</td>\n",
       "      <td>3</td>\n",
       "      <td>11</td>\n",
       "    </tr>\n",
       "    <tr>\n",
       "      <th>22</th>\n",
       "      <td>2</td>\n",
       "      <td>4</td>\n",
       "      <td>12</td>\n",
       "    </tr>\n",
       "    <tr>\n",
       "      <th>23</th>\n",
       "      <td>3</td>\n",
       "      <td>5</td>\n",
       "      <td>13</td>\n",
       "    </tr>\n",
       "    <tr>\n",
       "      <th>24</th>\n",
       "      <td>4</td>\n",
       "      <td>6</td>\n",
       "      <td>14</td>\n",
       "    </tr>\n",
       "    <tr>\n",
       "      <th>25</th>\n",
       "      <td>5</td>\n",
       "      <td>7</td>\n",
       "      <td>15</td>\n",
       "    </tr>\n",
       "  </tbody>\n",
       "</table>\n",
       "</div>"
      ],
      "text/plain": [
       "    a  b   c\n",
       "20  0  2  10\n",
       "21  1  3  11\n",
       "22  2  4  12\n",
       "23  3  5  13\n",
       "24  4  6  14\n",
       "25  5  7  15"
      ]
     },
     "execution_count": 31,
     "metadata": {},
     "output_type": "execute_result"
    }
   ],
   "source": [
    "x"
   ]
  },
  {
   "cell_type": "code",
   "execution_count": 24,
   "metadata": {
    "scrolled": true
   },
   "outputs": [
    {
     "data": {
      "text/html": [
       "<div>\n",
       "<style scoped>\n",
       "    .dataframe tbody tr th:only-of-type {\n",
       "        vertical-align: middle;\n",
       "    }\n",
       "\n",
       "    .dataframe tbody tr th {\n",
       "        vertical-align: top;\n",
       "    }\n",
       "\n",
       "    .dataframe thead th {\n",
       "        text-align: right;\n",
       "    }\n",
       "</style>\n",
       "<table border=\"1\" class=\"dataframe\">\n",
       "  <thead>\n",
       "    <tr style=\"text-align: right;\">\n",
       "      <th></th>\n",
       "      <th>a</th>\n",
       "      <th>b</th>\n",
       "    </tr>\n",
       "  </thead>\n",
       "  <tbody>\n",
       "    <tr>\n",
       "      <th>0</th>\n",
       "      <td>0</td>\n",
       "      <td>2</td>\n",
       "    </tr>\n",
       "    <tr>\n",
       "      <th>1</th>\n",
       "      <td>1</td>\n",
       "      <td>3</td>\n",
       "    </tr>\n",
       "    <tr>\n",
       "      <th>2</th>\n",
       "      <td>2</td>\n",
       "      <td>4</td>\n",
       "    </tr>\n",
       "    <tr>\n",
       "      <th>3</th>\n",
       "      <td>3</td>\n",
       "      <td>5</td>\n",
       "    </tr>\n",
       "    <tr>\n",
       "      <th>4</th>\n",
       "      <td>4</td>\n",
       "      <td>6</td>\n",
       "    </tr>\n",
       "    <tr>\n",
       "      <th>5</th>\n",
       "      <td>5</td>\n",
       "      <td>7</td>\n",
       "    </tr>\n",
       "  </tbody>\n",
       "</table>\n",
       "</div>"
      ],
      "text/plain": [
       "   a  b\n",
       "0  0  2\n",
       "1  1  3\n",
       "2  2  4\n",
       "3  3  5\n",
       "4  4  6\n",
       "5  5  7"
      ]
     },
     "execution_count": 24,
     "metadata": {},
     "output_type": "execute_result"
    }
   ],
   "source": [
    "x.loc[:, ['a', 'b']]"
   ]
  },
  {
   "cell_type": "code",
   "execution_count": 30,
   "metadata": {},
   "outputs": [
    {
     "data": {
      "text/html": [
       "<div>\n",
       "<style scoped>\n",
       "    .dataframe tbody tr th:only-of-type {\n",
       "        vertical-align: middle;\n",
       "    }\n",
       "\n",
       "    .dataframe tbody tr th {\n",
       "        vertical-align: top;\n",
       "    }\n",
       "\n",
       "    .dataframe thead th {\n",
       "        text-align: right;\n",
       "    }\n",
       "</style>\n",
       "<table border=\"1\" class=\"dataframe\">\n",
       "  <thead>\n",
       "    <tr style=\"text-align: right;\">\n",
       "      <th></th>\n",
       "      <th>index</th>\n",
       "      <th>a</th>\n",
       "      <th>b</th>\n",
       "      <th>c</th>\n",
       "    </tr>\n",
       "  </thead>\n",
       "  <tbody>\n",
       "    <tr>\n",
       "      <th>0</th>\n",
       "      <td>20</td>\n",
       "      <td>0</td>\n",
       "      <td>2</td>\n",
       "      <td>10</td>\n",
       "    </tr>\n",
       "    <tr>\n",
       "      <th>1</th>\n",
       "      <td>21</td>\n",
       "      <td>1</td>\n",
       "      <td>3</td>\n",
       "      <td>11</td>\n",
       "    </tr>\n",
       "    <tr>\n",
       "      <th>2</th>\n",
       "      <td>22</td>\n",
       "      <td>2</td>\n",
       "      <td>4</td>\n",
       "      <td>12</td>\n",
       "    </tr>\n",
       "    <tr>\n",
       "      <th>3</th>\n",
       "      <td>23</td>\n",
       "      <td>3</td>\n",
       "      <td>5</td>\n",
       "      <td>13</td>\n",
       "    </tr>\n",
       "    <tr>\n",
       "      <th>4</th>\n",
       "      <td>24</td>\n",
       "      <td>4</td>\n",
       "      <td>6</td>\n",
       "      <td>14</td>\n",
       "    </tr>\n",
       "    <tr>\n",
       "      <th>5</th>\n",
       "      <td>25</td>\n",
       "      <td>5</td>\n",
       "      <td>7</td>\n",
       "      <td>15</td>\n",
       "    </tr>\n",
       "  </tbody>\n",
       "</table>\n",
       "</div>"
      ],
      "text/plain": [
       "   index  a  b   c\n",
       "0     20  0  2  10\n",
       "1     21  1  3  11\n",
       "2     22  2  4  12\n",
       "3     23  3  5  13\n",
       "4     24  4  6  14\n",
       "5     25  5  7  15"
      ]
     },
     "execution_count": 30,
     "metadata": {},
     "output_type": "execute_result"
    }
   ],
   "source": [
    "x.reset_index(drop=True)"
   ]
  },
  {
   "cell_type": "code",
   "execution_count": null,
   "metadata": {},
   "outputs": [],
   "source": []
  }
 ],
 "metadata": {
  "kernelspec": {
   "display_name": "Python 3",
   "language": "python",
   "name": "python3"
  },
  "language_info": {
   "codemirror_mode": {
    "name": "ipython",
    "version": 3
   },
   "file_extension": ".py",
   "mimetype": "text/x-python",
   "name": "python",
   "nbconvert_exporter": "python",
   "pygments_lexer": "ipython3",
   "version": "3.8.3"
  }
 },
 "nbformat": 4,
 "nbformat_minor": 4
}
